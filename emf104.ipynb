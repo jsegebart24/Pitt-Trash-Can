{
 "cells": [
  {
   "cell_type": "markdown",
   "metadata": {},
   "source": [
    "## Data Set: Street Sweeping Routes"
   ]
  },
  {
   "cell_type": "markdown",
   "metadata": {},
   "source": [
    "**Data set:** My data set that I chose was the street sweeping routes. It will help determine the cleaniness of each street to determine what neighbor is the best. "
   ]
  },
  {
   "cell_type": "markdown",
   "metadata": {},
   "source": [
    "Data Set Link: https://data.wprdc.org/dataset/street-sweeping-routes/resource/a5f3ae45-0716-4652-a85c-a69424f2f4f7"
   ]
  },
  {
   "cell_type": "markdown",
   "metadata": {},
   "source": [
    "**Goal:** qaunitifying results of the length of weekly sweeps of various street/neighborhoods in Pittsburgh"
   ]
  },
  {
   "cell_type": "markdown",
   "metadata": {},
   "source": [
    "**Metric Explanation**: We are trying to find the best neighborhood by rating each neghborhood in 3 categories: Number of Trees, Miles Traveled to clean the Streets, and Amount of Police Incidents. Each neighborhood will be given a rating between 1 to 100 with 1 being the worst and 100 being the best. A computation will then be used to give each neighborhood a true rating based off of the ratings they received from each category.\n",
    "\n",
    "**My Metric:** My metric is the how long it takes to clean the streets in various neighborhoods in Pittsburgh. By comparing the miles traveled on each street, it shows how long it takes to clean each street."
   ]
  },
  {
   "cell_type": "code",
   "execution_count": 1,
   "metadata": {},
   "outputs": [
    {
     "name": "stdout",
     "output_type": "stream",
     "text": [
      "                       Travel_Miles\n",
      "Neighborhood                       \n",
      "Beechview                       6.4\n",
      "Beltzhoover                     0.0\n",
      "Brookline                       0.0\n",
      "Carrick                         8.8\n",
      "Central Lawrenceville          26.6\n",
      "East Allegheny                 26.0\n",
      "Elliott                        14.2\n",
      "Friendship                     20.6\n",
      "Garfield                       18.0\n",
      "Highland Park                  35.9\n",
      "Hill                           57.4\n",
      "Homewood                       32.8\n",
      "Knoxville                       5.2\n",
      "Lower Lawrenceville            19.7\n",
      "Manchester                     21.0\n",
      "Morning Side                   16.9\n",
      "Mt. Washington                  7.2\n",
      "Oakland                        25.4\n",
      "Perry North                    36.0\n",
      "Point Breeze                    8.5\n",
      "Regent Square                  31.4\n",
      "Shadyside                      33.9\n",
      "South Hills                     8.5\n",
      "Squirrel Hill                  68.9\n",
      "Summerset                       5.0\n",
      "68.9\n",
      "                       Travel_Miles      Rating\n",
      "Neighborhood                                   \n",
      "Beechview                       6.4    9.288824\n",
      "Beltzhoover                     0.0    0.000000\n",
      "Brookline                       0.0    0.000000\n",
      "Carrick                         8.8   12.772134\n",
      "Central Lawrenceville          26.6   38.606676\n",
      "East Allegheny                 26.0   37.735849\n",
      "Elliott                        14.2   20.609579\n",
      "Friendship                     20.6   29.898403\n",
      "Garfield                       18.0   26.124819\n",
      "Highland Park                  35.9   52.104499\n",
      "Hill                           57.4   83.309144\n",
      "Homewood                       32.8   47.605225\n",
      "Knoxville                       5.2    7.547170\n",
      "Lower Lawrenceville            19.7   28.592163\n",
      "Manchester                     21.0   30.478955\n",
      "Morning Side                   16.9   24.528302\n",
      "Mt. Washington                  7.2   10.449927\n",
      "Oakland                        25.4   36.865022\n",
      "Perry North                    36.0   52.249637\n",
      "Point Breeze                    8.5   12.336720\n",
      "Regent Square                  31.4   45.573295\n",
      "Shadyside                      33.9   49.201742\n",
      "South Hills                     8.5   12.336720\n",
      "Squirrel Hill                  68.9  100.000000\n",
      "Summerset                       5.0    7.256894\n"
     ]
    },
    {
     "data": {
      "image/png": "[encoded data removed]",
      "text/plain": [
       "<Figure size 432x288 with 1 Axes>"
      ]
     },
     "metadata": {
      "needs_background": "light"
     },
     "output_type": "display_data"
    }
   ],
   "source": [
    "import pandas as pd \n",
    "import numpy as np\n",
    "%matplotlib inline\n",
    "import matplotlib.pyplot as plt\n",
    "\n",
    "#Access Data Frane\n",
    "street = pd.read_csv(\"https://data.wprdc.org/dataset/b882ba13-b01b-4a8e-a29f-5b2c0ef73566/resource/a5f3ae45-0716-4652-a85c-a69424f2f4f7/download/routestable.csv\", index_col=\"Route Description\", dtype={\"id\": int})\n",
    "\n",
    "#Splice through the Travel Miles and add to my own data frame\n",
    "streets = {\"Travel_Miles\": street.loc[:, \"Travel Miles\"]}\n",
    "che = pd.DataFrame(streets)\n",
    "\n",
    "#Group together Routes \n",
    "che = che.groupby(\"Route Description\").sum()\n",
    "#print(che)\n",
    "ches = che.groupby(che.index.str.split().str[0]).Travel_Miles.sum().reset_index()\n",
    "\n",
    "#Remaned Route Description to Neighborhood in Data Frame\n",
    "ches2 = ches.rename({'Route Description': 'Neighborhood'}, axis=1)\n",
    "\n",
    "#Editted names in Neighborhood index\n",
    "ches3 =ches2.set_index('Neighborhood')\n",
    "ches3.rename(index={\"Central\":'Central Lawrenceville',\"East\":'East Allegheny', \"Elliott,\": \"Elliott\", \"Highland\": \"Highland Park\", \"Lower\": \"Lower Lawrenceville\", \"Morning\": \"Morning Side\", \"Mt\": \"Mt. Washington\", \"Perry\": \"Perry North\", \"Point\": \"Point Breeze\", \"Regent\": \"Regent Square\", \"South\": \"South Hills\", \"Squirrel\": \"Squirrel Hill\"}, inplace=True)\n",
    "print(ches3)\n",
    "\n",
    "# Visualization here\n",
    "ches3.plot(kind=\"bar\")\n",
    "\n",
    "# Metric...\n",
    "    # Find the max of data set...\n",
    "column = ches3[\"Travel_Miles\"]\n",
    "max_value = column.max()\n",
    "print(max_value)\n",
    "    # create a new column and solve for rating...\n",
    "ches3['Rating'] = ((ches3[\"Travel_Miles\"] * 100).div(max_value))\n",
    "\n",
    "print(ches3) \n"
   ]
  },
  {
   "cell_type": "markdown",
   "metadata": {},
   "source": [
    "**The Best Neighborhood in Pittsburgh:**"
   ]
  },
  {
   "cell_type": "markdown",
   "metadata": {},
   "source": [
    "From the data presented it turns out that **Squirell Hill** is the best neighborhood in Pittsburgh!"
   ]
  },
  {
   "cell_type": "markdown",
   "metadata": {},
   "source": [
    "**Conclusion:**"
   ]
  },
  {
   "cell_type": "markdown",
   "metadata": {},
   "source": [
    "In conclusion, Squirell Hill is the best neighboorhood in Pittsburgh! They had the highest percentage at the end of the day. By earning a 100%, there streats are the cleanest in Pittsburgh. Squirell Hill was expected to have the greatest metric because it had the greatest travel miles to begin with. Even though Hill cam close, Squirell Hill still ended up with the highest percentage or metric. "
   ]
  },
  {
   "cell_type": "code",
   "execution_count": null,
   "metadata": {},
   "outputs": [],
   "source": []
  },
  {
   "cell_type": "code",
   "execution_count": null,
   "metadata": {},
   "outputs": [],
   "source": []
  },
  {
   "cell_type": "code",
   "execution_count": null,
   "metadata": {},
   "outputs": [],
   "source": []
  }
 ],
 "metadata": {
  "kernelspec": {
   "display_name": "Python 3",
   "language": "python",
   "name": "python3"
  },
  "language_info": {
   "codemirror_mode": {
    "name": "ipython",
    "version": 3
   },
   "file_extension": ".py",
   "mimetype": "text/x-python",
   "name": "python",
   "nbconvert_exporter": "python",
   "pygments_lexer": "ipython3",
   "version": "3.8.3"
  }
 },
 "nbformat": 4,
 "nbformat_minor": 4
}
